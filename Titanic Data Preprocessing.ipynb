{
 "cells": [
  {
   "cell_type": "markdown",
   "id": "10a3f211",
   "metadata": {},
   "source": [
    "Titanic Dataset Cleaning & Preprocessing"
   ]
  },
  {
   "cell_type": "markdown",
   "id": "9f52a6b5",
   "metadata": {},
   "source": [
    " 1.Import the dataset and explore basic info (nulls, data types)"
   ]
  },
  {
   "cell_type": "code",
   "execution_count": 1,
   "id": "30ff75b1",
   "metadata": {},
   "outputs": [
    {
     "name": "stdout",
     "output_type": "stream",
     "text": [
      "First 5 rows of the dataset:\n",
      "   PassengerId  Survived  Pclass  \\\n",
      "0            1         0       3   \n",
      "1            2         1       1   \n",
      "2            3         1       3   \n",
      "3            4         1       1   \n",
      "4            5         0       3   \n",
      "\n",
      "                                                Name     Sex   Age  SibSp  \\\n",
      "0                            Braund, Mr. Owen Harris    male  22.0      1   \n",
      "1  Cumings, Mrs. John Bradley (Florence Briggs Th...  female  38.0      1   \n",
      "2                             Heikkinen, Miss. Laina  female  26.0      0   \n",
      "3       Futrelle, Mrs. Jacques Heath (Lily May Peel)  female  35.0      1   \n",
      "4                           Allen, Mr. William Henry    male  35.0      0   \n",
      "\n",
      "   Parch            Ticket     Fare Cabin Embarked  \n",
      "0      0         A/5 21171   7.2500   NaN        S  \n",
      "1      0          PC 17599  71.2833   C85        C  \n",
      "2      0  STON/O2. 3101282   7.9250   NaN        S  \n",
      "3      0            113803  53.1000  C123        S  \n",
      "4      0            373450   8.0500   NaN        S  \n",
      "\n",
      "Basic Information about the dataset:\n",
      "<class 'pandas.core.frame.DataFrame'>\n",
      "RangeIndex: 891 entries, 0 to 890\n",
      "Data columns (total 12 columns):\n",
      " #   Column       Non-Null Count  Dtype  \n",
      "---  ------       --------------  -----  \n",
      " 0   PassengerId  891 non-null    int64  \n",
      " 1   Survived     891 non-null    int64  \n",
      " 2   Pclass       891 non-null    int64  \n",
      " 3   Name         891 non-null    object \n",
      " 4   Sex          891 non-null    object \n",
      " 5   Age          714 non-null    float64\n",
      " 6   SibSp        891 non-null    int64  \n",
      " 7   Parch        891 non-null    int64  \n",
      " 8   Ticket       891 non-null    object \n",
      " 9   Fare         891 non-null    float64\n",
      " 10  Cabin        204 non-null    object \n",
      " 11  Embarked     889 non-null    object \n",
      "dtypes: float64(2), int64(5), object(5)\n",
      "memory usage: 83.7+ KB\n",
      "None\n",
      "\n",
      "Missing values per column:\n",
      "PassengerId      0\n",
      "Survived         0\n",
      "Pclass           0\n",
      "Name             0\n",
      "Sex              0\n",
      "Age            177\n",
      "SibSp            0\n",
      "Parch            0\n",
      "Ticket           0\n",
      "Fare             0\n",
      "Cabin          687\n",
      "Embarked         2\n",
      "dtype: int64\n"
     ]
    }
   ],
   "source": [
    "# Import the necessary libraries\n",
    "import pandas as pd\n",
    "import numpy as np\n",
    "\n",
    "# Load the Titanic dataset\n",
    "url = \"https://raw.githubusercontent.com/datasciencedojo/datasets/master/titanic.csv\"  # If you're using a Kaggle file, replace this URL with your local file path\n",
    "df = pd.read_csv(url)\n",
    "\n",
    "# Show the first few rows of the dataset to inspect the data\n",
    "print(\"First 5 rows of the dataset:\")\n",
    "print(df.head())\n",
    "\n",
    "# Get basic information about the dataset\n",
    "print(\"\\nBasic Information about the dataset:\")\n",
    "print(df.info())\n",
    "\n",
    "# Check for missing values\n",
    "print(\"\\nMissing values per column:\")\n",
    "print(df.isnull().sum())\n"
   ]
  },
  {
   "cell_type": "markdown",
   "id": "191bea70",
   "metadata": {},
   "source": [
    " 2.Handle missing values using mean/median/imputation."
   ]
  },
  {
   "cell_type": "code",
   "execution_count": 8,
   "id": "e1000985",
   "metadata": {},
   "outputs": [
    {
     "name": "stdout",
     "output_type": "stream",
     "text": [
      "\n",
      "Missing values after handling:\n",
      "PassengerId    0\n",
      "Survived       0\n",
      "Pclass         0\n",
      "Age            0\n",
      "SibSp          0\n",
      "              ..\n",
      "Cabin_F4       0\n",
      "Cabin_G6       0\n",
      "Cabin_T        0\n",
      "Embarked_Q     0\n",
      "Embarked_S     0\n",
      "Length: 1726, dtype: int64\n"
     ]
    }
   ],
   "source": [
    "# For numerical columns, use the median to fill missing values\n",
    "numerical_columns = df.select_dtypes(include=[np.number]).columns\n",
    "df[numerical_columns] = df[numerical_columns].fillna(df[numerical_columns].median())\n",
    "\n",
    "# For categorical columns, use the mode to fill missing values\n",
    "categorical_columns = df.select_dtypes(exclude=[np.number]).columns\n",
    "df[categorical_columns] = df[categorical_columns].fillna(df[categorical_columns].mode().iloc[0])\n",
    "\n",
    "# Verify that missing values are handled\n",
    "print(\"\\nMissing values after handling:\")\n",
    "print(df.isnull().sum())"
   ]
  },
  {
   "cell_type": "markdown",
   "id": "2d34fe64",
   "metadata": {},
   "source": [
    " 3.Convert categorical features into numerical using encoding."
   ]
  },
  {
   "cell_type": "code",
   "execution_count": 3,
   "id": "8a0f6cfb",
   "metadata": {},
   "outputs": [
    {
     "name": "stdout",
     "output_type": "stream",
     "text": [
      "\n",
      "Dataset after encoding categorical variables:\n",
      "   PassengerId  Survived  Pclass   Age  SibSp  Parch     Fare  \\\n",
      "0            1         0       3  22.0      1      0   7.2500   \n",
      "1            2         1       1  38.0      1      0  71.2833   \n",
      "2            3         1       3  26.0      0      0   7.9250   \n",
      "3            4         1       1  35.0      1      0  53.1000   \n",
      "4            5         0       3  35.0      0      0   8.0500   \n",
      "\n",
      "   Name_Abbott, Mr. Rossmore Edward  Name_Abbott, Mrs. Stanton (Rosa Hunt)  \\\n",
      "0                             False                                  False   \n",
      "1                             False                                  False   \n",
      "2                             False                                  False   \n",
      "3                             False                                  False   \n",
      "4                             False                                  False   \n",
      "\n",
      "   Name_Abelson, Mr. Samuel  ...  Cabin_F G63  Cabin_F G73  Cabin_F2  \\\n",
      "0                     False  ...        False        False     False   \n",
      "1                     False  ...        False        False     False   \n",
      "2                     False  ...        False        False     False   \n",
      "3                     False  ...        False        False     False   \n",
      "4                     False  ...        False        False     False   \n",
      "\n",
      "   Cabin_F33  Cabin_F38  Cabin_F4  Cabin_G6  Cabin_T  Embarked_Q  Embarked_S  \n",
      "0      False      False     False     False    False       False        True  \n",
      "1      False      False     False     False    False       False       False  \n",
      "2      False      False     False     False    False       False        True  \n",
      "3      False      False     False     False    False       False        True  \n",
      "4      False      False     False     False    False       False        True  \n",
      "\n",
      "[5 rows x 1726 columns]\n"
     ]
    }
   ],
   "source": [
    "# Perform one-hot encoding for categorical variables\n",
    "df = pd.get_dummies(df, drop_first=True)\n",
    "\n",
    "# Check the transformed dataset\n",
    "print(\"\\nDataset after encoding categorical variables:\")\n",
    "print(df.head())"
   ]
  },
  {
   "cell_type": "markdown",
   "id": "f4589213",
   "metadata": {},
   "source": [
    " 4.Normalize/standardize the numerical features."
   ]
  },
  {
   "cell_type": "code",
   "execution_count": 4,
   "id": "202858a0",
   "metadata": {},
   "outputs": [
    {
     "name": "stdout",
     "output_type": "stream",
     "text": [
      "\n",
      "Dataset after scaling numerical features:\n",
      "   PassengerId  Survived    Pclass       Age     SibSp     Parch      Fare  \\\n",
      "0    -1.730108 -0.789272  0.827377 -0.565736  0.432793 -0.473674 -0.502445   \n",
      "1    -1.726220  1.266990 -1.566107  0.663861  0.432793 -0.473674  0.786845   \n",
      "2    -1.722332  1.266990  0.827377 -0.258337 -0.474545 -0.473674 -0.488854   \n",
      "3    -1.718444  1.266990 -1.566107  0.433312  0.432793 -0.473674  0.420730   \n",
      "4    -1.714556 -0.789272  0.827377  0.433312 -0.474545 -0.473674 -0.486337   \n",
      "\n",
      "   Name_Abbott, Mr. Rossmore Edward  Name_Abbott, Mrs. Stanton (Rosa Hunt)  \\\n",
      "0                             False                                  False   \n",
      "1                             False                                  False   \n",
      "2                             False                                  False   \n",
      "3                             False                                  False   \n",
      "4                             False                                  False   \n",
      "\n",
      "   Name_Abelson, Mr. Samuel  ...  Cabin_F G63  Cabin_F G73  Cabin_F2  \\\n",
      "0                     False  ...        False        False     False   \n",
      "1                     False  ...        False        False     False   \n",
      "2                     False  ...        False        False     False   \n",
      "3                     False  ...        False        False     False   \n",
      "4                     False  ...        False        False     False   \n",
      "\n",
      "   Cabin_F33  Cabin_F38  Cabin_F4  Cabin_G6  Cabin_T  Embarked_Q  Embarked_S  \n",
      "0      False      False     False     False    False       False        True  \n",
      "1      False      False     False     False    False       False       False  \n",
      "2      False      False     False     False    False       False        True  \n",
      "3      False      False     False     False    False       False        True  \n",
      "4      False      False     False     False    False       False        True  \n",
      "\n",
      "[5 rows x 1726 columns]\n"
     ]
    }
   ],
   "source": [
    "from sklearn.preprocessing import StandardScaler\n",
    "\n",
    "# We select numerical columns for scaling\n",
    "scaler = StandardScaler()\n",
    "numerical_columns = df.select_dtypes(include=[np.number]).columns\n",
    "\n",
    "# Apply standardization (scaling)\n",
    "df[numerical_columns] = scaler.fit_transform(df[numerical_columns])\n",
    "\n",
    "# Check the scaled data\n",
    "print(\"\\nDataset after scaling numerical features:\")\n",
    "print(df.head())"
   ]
  },
  {
   "cell_type": "markdown",
   "id": "a850841f",
   "metadata": {},
   "source": [
    " 5.Visualize outliers using boxplots and remove them."
   ]
  },
  {
   "cell_type": "code",
   "execution_count": null,
   "id": "9ac75af8",
   "metadata": {},
   "outputs": [
    {
     "data": {
      "image/png": "[encoded data removed]",
      "text/plain": [
       "<Figure size 1000x600 with 1 Axes>"
      ]
     },
     "metadata": {},
     "output_type": "display_data"
    }
   ],
   "source": [
    "import matplotlib.pyplot as plt\n",
    "import seaborn as sns\n",
    "\n",
    "plt.figure(figsize=(10, 6))\n",
    "sns.boxplot(data=df[numerical_columns])\n",
    "plt.title(\"Boxplot of Numerical Features\")\n",
    "plt.show()\n",
    "\n",
    "# Optionally, remove outliers\n",
    "# Calculate IQR for each feature\n",
    "Q1 = df[numerical_columns].quantile(0.25)\n",
    "Q3 = df[numerical_columns].quantile(0.75)\n",
    "IQR = Q3 - Q1\n",
    "\n",
    "# Remove rows where any numerical feature is outside of the 1.5*IQR range\n",
    "df_no_outliers = df[~((df[numerical_columns] < (Q1 - 1.5 * IQR)) | (df[numerical_columns] > (Q3 + 1.5 * IQR))).any(axis=1)]\n",
    "\n",
    "# Check the data after removing outliers\n",
    "print(\"\\nDataset after removing outliers:\")\n",
    "print(df_no_outliers.shape)"
   ]
  },
  {
   "cell_type": "code",
   "execution_count": null,
   "id": "5481e5c0",
   "metadata": {},
   "outputs": [],
   "source": []
  }
 ],
 "metadata": {
  "kernelspec": {
   "display_name": "base",
   "language": "python",
   "name": "python3"
  },
  "language_info": {
   "codemirror_mode": {
    "name": "ipython",
    "version": 3
   },
   "file_extension": ".py",
   "mimetype": "text/x-python",
   "name": "python",
   "nbconvert_exporter": "python",
   "pygments_lexer": "ipython3",
   "version": "3.12.4"
  }
 },
 "nbformat": 4,
 "nbformat_minor": 5
}
